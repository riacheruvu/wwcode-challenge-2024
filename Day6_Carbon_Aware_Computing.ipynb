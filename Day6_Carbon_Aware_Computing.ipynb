{
  "cells": [
    {
      "cell_type": "markdown",
      "metadata": {
        "id": "WAj_WthEwB5c"
      },
      "source": [
        "# Using CodeCarbon for Carbon-Aware Computing\n",
        "\n",
        "<a target=\"_blank\" href=\"https://colab.research.google.com/github/riacheruvu/wwcode-challenge-2024/blob/main/Day6_Carbon_Aware_Computing.ipynb\">\n",
        "  <img src=\"https://colab.research.google.com/assets/colab-badge.svg\" alt=\"Open In Colab\"/>\n",
        "</a>\n",
        "\n",
        "For this experiment, I'm using a short snippet from the examples of [Code Carbon](https://codecarbon.io/), a [library](https://github.com/mlco2/codecarbon) which allows users/developers to estimate and track carbon emissions from their system!\n",
        "\n",
        "I've added my thoughts and learnings throughout this notebook, breaking down my understanding of the process."
      ]
    },
    {
      "cell_type": "code",
      "execution_count": null,
      "metadata": {
        "colab": {
          "base_uri": "https://localhost:8080/"
        },
        "id": "Hxmuv6qGcITs",
        "outputId": "666ade6f-3d9f-42e2-b797-abe1f1fee727"
      },
      "outputs": [
        {
          "name": "stdout",
          "output_type": "stream",
          "text": [
            "Requirement already satisfied: codecarbon in /usr/local/lib/python3.10/dist-packages (2.3.2)\n",
            "Requirement already satisfied: arrow in /usr/local/lib/python3.10/dist-packages (from codecarbon) (1.3.0)\n",
            "Requirement already satisfied: pandas in /usr/local/lib/python3.10/dist-packages (from codecarbon) (1.5.3)\n",
            "Requirement already satisfied: pynvml in /usr/local/lib/python3.10/dist-packages (from codecarbon) (11.5.0)\n",
            "Requirement already satisfied: requests in /usr/local/lib/python3.10/dist-packages (from codecarbon) (2.31.0)\n",
            "Requirement already satisfied: psutil in /usr/local/lib/python3.10/dist-packages (from codecarbon) (5.9.5)\n",
            "Requirement already satisfied: py-cpuinfo in /usr/local/lib/python3.10/dist-packages (from codecarbon) (9.0.0)\n",
            "Requirement already satisfied: fuzzywuzzy in /usr/local/lib/python3.10/dist-packages (from codecarbon) (0.18.0)\n",
            "Requirement already satisfied: click in /usr/local/lib/python3.10/dist-packages (from codecarbon) (8.1.7)\n",
            "Requirement already satisfied: prometheus-client in /usr/local/lib/python3.10/dist-packages (from codecarbon) (0.19.0)\n",
            "Requirement already satisfied: python-dateutil>=2.7.0 in /usr/local/lib/python3.10/dist-packages (from arrow->codecarbon) (2.8.2)\n",
            "Requirement already satisfied: types-python-dateutil>=2.8.10 in /usr/local/lib/python3.10/dist-packages (from arrow->codecarbon) (2.8.19.20240106)\n",
            "Requirement already satisfied: pytz>=2020.1 in /usr/local/lib/python3.10/dist-packages (from pandas->codecarbon) (2023.3.post1)\n",
            "Requirement already satisfied: numpy>=1.21.0 in /usr/local/lib/python3.10/dist-packages (from pandas->codecarbon) (1.23.5)\n",
            "Requirement already satisfied: charset-normalizer<4,>=2 in /usr/local/lib/python3.10/dist-packages (from requests->codecarbon) (3.3.2)\n",
            "Requirement already satisfied: idna<4,>=2.5 in /usr/local/lib/python3.10/dist-packages (from requests->codecarbon) (3.6)\n",
            "Requirement already satisfied: urllib3<3,>=1.21.1 in /usr/local/lib/python3.10/dist-packages (from requests->codecarbon) (2.0.7)\n",
            "Requirement already satisfied: certifi>=2017.4.17 in /usr/local/lib/python3.10/dist-packages (from requests->codecarbon) (2023.11.17)\n",
            "Requirement already satisfied: six>=1.5 in /usr/local/lib/python3.10/dist-packages (from python-dateutil>=2.7.0->arrow->codecarbon) (1.16.0)\n"
          ]
        }
      ],
      "source": [
        "!pip install codecarbon"
      ]
    },
    {
      "cell_type": "code",
      "execution_count": null,
      "metadata": {
        "id": "q5AS1ZF3Rpxi"
      },
      "outputs": [],
      "source": [
        "import tensorflow as tf\n",
        "\n",
        "from codecarbon import EmissionsTracker"
      ]
    },
    {
      "cell_type": "markdown",
      "metadata": {
        "id": "pJcIyPcYwpqL"
      },
      "source": [
        "## Step 1: Define your Computation\n",
        "\n",
        "From our example from the CodeCarbon repository, we can define a computation here that we want to perform, like training a simple machine learning model."
      ]
    },
    {
      "cell_type": "code",
      "execution_count": null,
      "metadata": {
        "id": "1FAUQcwFgbQ1"
      },
      "outputs": [],
      "source": [
        "#Source: https://github.com/mlco2/codecarbon/blob/master/examples/mnist.py\n",
        "mnist = tf.keras.datasets.mnist\n",
        "\n",
        "(x_train, y_train), (x_test, y_test) = mnist.load_data()\n",
        "x_train, x_test = x_train / 255.0, x_test / 255.0\n",
        "\n",
        "\n",
        "model = tf.keras.models.Sequential(\n",
        "    [\n",
        "        tf.keras.layers.Flatten(input_shape=(28, 28)),\n",
        "        tf.keras.layers.Dense(128, activation=\"relu\"),\n",
        "        tf.keras.layers.Dropout(0.2),\n",
        "        tf.keras.layers.Dense(10),\n",
        "    ]\n",
        ")\n",
        "\n",
        "loss_fn = tf.keras.losses.SparseCategoricalCrossentropy(from_logits=True)\n",
        "\n",
        "model.compile(optimizer=\"adam\", loss=loss_fn, metrics=[\"accuracy\"])"
      ]
    },
    {
      "cell_type": "markdown",
      "metadata": {
        "id": "VACucEAIxaPY"
      },
      "source": [
        "## Step 2: Instantiate the Emissions Tracker\n",
        "\n",
        "Now, we'll start training the model and get the resulting metrics from the Emissions Tracker!"
      ]
    },
    {
      "cell_type": "code",
      "execution_count": null,
      "metadata": {
        "colab": {
          "base_uri": "https://localhost:8080/"
        },
        "id": "cDcnB0lacKoh",
        "outputId": "d1178483-9f69-442f-ff1e-3d0b201c0ba4"
      },
      "outputs": [
        {
          "name": "stderr",
          "output_type": "stream",
          "text": [
            "[codecarbon INFO @ 06:27:46] [setup] RAM Tracking...\n",
            "[codecarbon INFO @ 06:27:46] [setup] GPU Tracking...\n",
            "[codecarbon INFO @ 06:27:46] No GPU found.\n",
            "[codecarbon INFO @ 06:27:46] [setup] CPU Tracking...\n",
            "[codecarbon WARNING @ 06:27:46] No CPU tracking mode found. Falling back on CPU constant mode.\n",
            "[codecarbon WARNING @ 06:27:48] We saw that you have a Intel(R) Xeon(R) CPU @ 2.20GHz but we don't know it. Please contact us.\n",
            "[codecarbon INFO @ 06:27:48] CPU Model on constant consumption mode: Intel(R) Xeon(R) CPU @ 2.20GHz\n",
            "[codecarbon INFO @ 06:27:48] >>> Tracker's metadata:\n",
            "[codecarbon INFO @ 06:27:48]   Platform system: Linux-6.1.58+-x86_64-with-glibc2.35\n",
            "[codecarbon INFO @ 06:27:48]   Python version: 3.10.12\n",
            "[codecarbon INFO @ 06:27:48]   CodeCarbon version: 2.3.2\n",
            "[codecarbon INFO @ 06:27:48]   Available RAM : 12.675 GB\n",
            "[codecarbon INFO @ 06:27:48]   CPU count: 2\n",
            "[codecarbon INFO @ 06:27:48]   CPU model: Intel(R) Xeon(R) CPU @ 2.20GHz\n",
            "[codecarbon INFO @ 06:27:48]   GPU count: None\n",
            "[codecarbon INFO @ 06:27:48]   GPU model: None\n"
          ]
        },
        {
          "name": "stdout",
          "output_type": "stream",
          "text": [
            "Epoch 1/100\n",
            "1875/1875 [==============================] - 5s 3ms/step - loss: 0.0123 - accuracy: 0.9963\n",
            "Epoch 2/100\n",
            "1875/1875 [==============================] - 6s 3ms/step - loss: 0.0099 - accuracy: 0.9969\n",
            "Epoch 3/100\n",
            "1228/1875 [==================>...........] - ETA: 1s - loss: 0.0113 - accuracy: 0.9965"
          ]
        },
        {
          "name": "stderr",
          "output_type": "stream",
          "text": [
            "[codecarbon INFO @ 06:28:03] Energy consumed for RAM : 0.000020 kWh. RAM Power : 4.753046035766602 W\n",
            "[codecarbon INFO @ 06:28:03] Energy consumed for all CPUs : 0.000177 kWh. Total CPU Power : 42.5 W\n",
            "[codecarbon INFO @ 06:28:03] 0.000197 kWh of electricity used since the beginning.\n"
          ]
        },
        {
          "name": "stdout",
          "output_type": "stream",
          "text": [
            "1875/1875 [==============================] - 5s 3ms/step - loss: 0.0106 - accuracy: 0.9967\n",
            "Epoch 4/100\n",
            "1875/1875 [==============================] - 7s 4ms/step - loss: 0.0108 - accuracy: 0.9967\n",
            "Epoch 5/100\n",
            "1875/1875 [==============================] - 6s 3ms/step - loss: 0.0115 - accuracy: 0.9963\n",
            "Epoch 6/100\n",
            " 301/1875 [===>..........................] - ETA: 4s - loss: 0.0113 - accuracy: 0.9968"
          ]
        },
        {
          "name": "stderr",
          "output_type": "stream",
          "text": [
            "[codecarbon INFO @ 06:28:18] Energy consumed for RAM : 0.000040 kWh. RAM Power : 4.753046035766602 W\n",
            "[codecarbon INFO @ 06:28:18] Energy consumed for all CPUs : 0.000354 kWh. Total CPU Power : 42.5 W\n",
            "[codecarbon INFO @ 06:28:18] 0.000394 kWh of electricity used since the beginning.\n"
          ]
        },
        {
          "name": "stdout",
          "output_type": "stream",
          "text": [
            "1875/1875 [==============================] - 6s 3ms/step - loss: 0.0123 - accuracy: 0.9962\n",
            "Epoch 7/100\n",
            "1875/1875 [==============================] - 5s 3ms/step - loss: 0.0101 - accuracy: 0.9967\n",
            "Epoch 8/100\n",
            "1783/1875 [===========================>..] - ETA: 0s - loss: 0.0127 - accuracy: 0.9959"
          ]
        },
        {
          "name": "stderr",
          "output_type": "stream",
          "text": [
            "[codecarbon INFO @ 06:28:33] Energy consumed for RAM : 0.000059 kWh. RAM Power : 4.753046035766602 W\n",
            "[codecarbon INFO @ 06:28:33] Energy consumed for all CPUs : 0.000531 kWh. Total CPU Power : 42.5 W\n",
            "[codecarbon INFO @ 06:28:33] 0.000591 kWh of electricity used since the beginning.\n"
          ]
        },
        {
          "name": "stdout",
          "output_type": "stream",
          "text": [
            "1875/1875 [==============================] - 5s 3ms/step - loss: 0.0126 - accuracy: 0.9959\n",
            "Epoch 9/100\n",
            "1875/1875 [==============================] - 6s 3ms/step - loss: 0.0100 - accuracy: 0.9969\n",
            "Epoch 10/100\n",
            "1875/1875 [==============================] - 5s 3ms/step - loss: 0.0110 - accuracy: 0.9965\n",
            "Epoch 11/100\n",
            "1367/1875 [====================>.........] - ETA: 1s - loss: 0.0127 - accuracy: 0.9960"
          ]
        },
        {
          "name": "stderr",
          "output_type": "stream",
          "text": [
            "[codecarbon INFO @ 06:28:48] Energy consumed for RAM : 0.000079 kWh. RAM Power : 4.753046035766602 W\n",
            "[codecarbon INFO @ 06:28:48] Energy consumed for all CPUs : 0.000708 kWh. Total CPU Power : 42.5 W\n",
            "[codecarbon INFO @ 06:28:48] 0.000788 kWh of electricity used since the beginning.\n"
          ]
        },
        {
          "name": "stdout",
          "output_type": "stream",
          "text": [
            "1875/1875 [==============================] - 6s 3ms/step - loss: 0.0117 - accuracy: 0.9962\n",
            "Epoch 12/100\n",
            "1875/1875 [==============================] - 5s 3ms/step - loss: 0.0115 - accuracy: 0.9964\n",
            "Epoch 13/100\n",
            "1875/1875 [==============================] - 5s 3ms/step - loss: 0.0101 - accuracy: 0.9967\n",
            "Epoch 14/100\n",
            " 716/1875 [==========>...................] - ETA: 4s - loss: 0.0084 - accuracy: 0.9971"
          ]
        },
        {
          "name": "stderr",
          "output_type": "stream",
          "text": [
            "[codecarbon INFO @ 06:29:03] Energy consumed for RAM : 0.000099 kWh. RAM Power : 4.753046035766602 W\n"
          ]
        },
        {
          "name": "stdout",
          "output_type": "stream",
          "text": [
            "\b\b\b\b\b\b\b\b\b\b\b\b\b\b\b\b\b\b\b\b\b\b\b\b\b\b\b\b\b\b\b\b\b\b\b\b\b\b\b\b\b\b\b\b\b\b\b\b\b\b\b\b\b\b\b\b\b\b\b\b\b\b\b\b\b\b\b\b\b\b\b\b\b\b\b\b\b\b\b\b\b\b\b\b\b\b\r 726/1875 [==========>...................] - ETA: 4s - loss: 0.0087 - accuracy: 0.9971"
          ]
        },
        {
          "name": "stderr",
          "output_type": "stream",
          "text": [
            "[codecarbon INFO @ 06:29:03] Energy consumed for all CPUs : 0.000886 kWh. Total CPU Power : 42.5 W\n",
            "[codecarbon INFO @ 06:29:03] 0.000985 kWh of electricity used since the beginning.\n"
          ]
        },
        {
          "name": "stdout",
          "output_type": "stream",
          "text": [
            "1875/1875 [==============================] - 6s 3ms/step - loss: 0.0103 - accuracy: 0.9965\n",
            "Epoch 15/100\n",
            "1875/1875 [==============================] - 5s 3ms/step - loss: 0.0125 - accuracy: 0.9963\n",
            "Epoch 16/100\n",
            "1875/1875 [==============================] - 6s 3ms/step - loss: 0.0102 - accuracy: 0.9967\n",
            "Epoch 17/100\n",
            " 106/1875 [>.............................] - ETA: 6s - loss: 0.0107 - accuracy: 0.9968"
          ]
        },
        {
          "name": "stderr",
          "output_type": "stream",
          "text": [
            "[codecarbon INFO @ 06:29:18] Energy consumed for RAM : 0.000119 kWh. RAM Power : 4.753046035766602 W\n",
            "[codecarbon INFO @ 06:29:18] Energy consumed for all CPUs : 0.001062 kWh. Total CPU Power : 42.5 W\n",
            "[codecarbon INFO @ 06:29:18] 0.001181 kWh of electricity used since the beginning.\n"
          ]
        },
        {
          "name": "stdout",
          "output_type": "stream",
          "text": [
            "1875/1875 [==============================] - 6s 3ms/step - loss: 0.0117 - accuracy: 0.9965\n",
            "Epoch 18/100\n",
            "1875/1875 [==============================] - 6s 3ms/step - loss: 0.0089 - accuracy: 0.9970\n",
            "Epoch 19/100\n",
            "1048/1875 [===============>..............] - ETA: 2s - loss: 0.0080 - accuracy: 0.9975"
          ]
        },
        {
          "name": "stderr",
          "output_type": "stream",
          "text": [
            "[codecarbon INFO @ 06:29:33] Energy consumed for RAM : 0.000139 kWh. RAM Power : 4.753046035766602 W\n",
            "[codecarbon INFO @ 06:29:33] Energy consumed for all CPUs : 0.001239 kWh. Total CPU Power : 42.5 W\n",
            "[codecarbon INFO @ 06:29:33] 0.001378 kWh of electricity used since the beginning.\n"
          ]
        },
        {
          "name": "stdout",
          "output_type": "stream",
          "text": [
            "1875/1875 [==============================] - 6s 3ms/step - loss: 0.0098 - accuracy: 0.9972\n",
            "Epoch 20/100\n",
            "1875/1875 [==============================] - 5s 3ms/step - loss: 0.0109 - accuracy: 0.9967\n",
            "Epoch 21/100\n",
            "1875/1875 [==============================] - 6s 3ms/step - loss: 0.0109 - accuracy: 0.9965\n",
            "Epoch 22/100\n",
            " 703/1875 [==========>...................] - ETA: 2s - loss: 0.0123 - accuracy: 0.9960"
          ]
        },
        {
          "name": "stderr",
          "output_type": "stream",
          "text": [
            "[codecarbon INFO @ 06:29:48] Energy consumed for RAM : 0.000158 kWh. RAM Power : 4.753046035766602 W\n",
            "[codecarbon INFO @ 06:29:48] Energy consumed for all CPUs : 0.001416 kWh. Total CPU Power : 42.5 W\n",
            "[codecarbon INFO @ 06:29:48] 0.001575 kWh of electricity used since the beginning.\n"
          ]
        },
        {
          "name": "stdout",
          "output_type": "stream",
          "text": [
            "1875/1875 [==============================] - 5s 3ms/step - loss: 0.0122 - accuracy: 0.9962\n",
            "Epoch 23/100\n",
            "1875/1875 [==============================] - 6s 3ms/step - loss: 0.0107 - accuracy: 0.9965\n",
            "Epoch 24/100\n",
            "1875/1875 [==============================] - 6s 3ms/step - loss: 0.0095 - accuracy: 0.9970\n",
            "Epoch 25/100\n",
            " 322/1875 [====>.........................] - ETA: 3s - loss: 0.0084 - accuracy: 0.9975"
          ]
        },
        {
          "name": "stderr",
          "output_type": "stream",
          "text": [
            "[codecarbon INFO @ 06:30:03] Energy consumed for RAM : 0.000178 kWh. RAM Power : 4.753046035766602 W\n",
            "[codecarbon INFO @ 06:30:03] Energy consumed for all CPUs : 0.001594 kWh. Total CPU Power : 42.5 W\n",
            "[codecarbon INFO @ 06:30:03] 0.001772 kWh of electricity used since the beginning.\n"
          ]
        },
        {
          "name": "stdout",
          "output_type": "stream",
          "text": [
            "1875/1875 [==============================] - 5s 3ms/step - loss: 0.0113 - accuracy: 0.9966\n",
            "Epoch 26/100\n",
            "1875/1875 [==============================] - 6s 3ms/step - loss: 0.0099 - accuracy: 0.9969\n",
            "Epoch 27/100\n",
            "1798/1875 [===========================>..] - ETA: 0s - loss: 0.0122 - accuracy: 0.9961"
          ]
        },
        {
          "name": "stderr",
          "output_type": "stream",
          "text": [
            "[codecarbon INFO @ 06:30:18] Energy consumed for RAM : 0.000198 kWh. RAM Power : 4.753046035766602 W\n",
            "[codecarbon INFO @ 06:30:18] Energy consumed for all CPUs : 0.001771 kWh. Total CPU Power : 42.5 W\n",
            "[codecarbon INFO @ 06:30:18] 0.001969 kWh of electricity used since the beginning.\n"
          ]
        },
        {
          "name": "stdout",
          "output_type": "stream",
          "text": [
            "1875/1875 [==============================] - 5s 3ms/step - loss: 0.0121 - accuracy: 0.9961\n",
            "Epoch 28/100\n",
            "1875/1875 [==============================] - 6s 3ms/step - loss: 0.0094 - accuracy: 0.9972\n",
            "Epoch 29/100\n",
            "1875/1875 [==============================] - 5s 3ms/step - loss: 0.0107 - accuracy: 0.9967\n",
            "Epoch 30/100\n",
            "1449/1875 [======================>.......] - ETA: 1s - loss: 0.0119 - accuracy: 0.9963"
          ]
        },
        {
          "name": "stderr",
          "output_type": "stream",
          "text": [
            "[codecarbon INFO @ 06:30:33] Energy consumed for RAM : 0.000218 kWh. RAM Power : 4.753046035766602 W\n",
            "[codecarbon INFO @ 06:30:33] Energy consumed for all CPUs : 0.001948 kWh. Total CPU Power : 42.5 W\n",
            "[codecarbon INFO @ 06:30:33] 0.002165 kWh of electricity used since the beginning.\n"
          ]
        },
        {
          "name": "stdout",
          "output_type": "stream",
          "text": [
            "1875/1875 [==============================] - 5s 3ms/step - loss: 0.0119 - accuracy: 0.9964\n",
            "Epoch 31/100\n",
            "1875/1875 [==============================] - 6s 3ms/step - loss: 0.0103 - accuracy: 0.9969\n",
            "Epoch 32/100\n",
            "1875/1875 [==============================] - 5s 3ms/step - loss: 0.0105 - accuracy: 0.9968\n",
            "Epoch 33/100\n",
            "1093/1875 [================>.............] - ETA: 2s - loss: 0.0094 - accuracy: 0.9971"
          ]
        },
        {
          "name": "stderr",
          "output_type": "stream",
          "text": [
            "[codecarbon INFO @ 06:30:48] Energy consumed for RAM : 0.000238 kWh. RAM Power : 4.753046035766602 W\n",
            "[codecarbon INFO @ 06:30:48] Energy consumed for all CPUs : 0.002125 kWh. Total CPU Power : 42.5 W\n",
            "[codecarbon INFO @ 06:30:48] 0.002362 kWh of electricity used since the beginning.\n"
          ]
        },
        {
          "name": "stdout",
          "output_type": "stream",
          "text": [
            "1875/1875 [==============================] - 6s 3ms/step - loss: 0.0101 - accuracy: 0.9969\n",
            "Epoch 34/100\n",
            "1875/1875 [==============================] - 6s 3ms/step - loss: 0.0099 - accuracy: 0.9971\n",
            "Epoch 35/100\n",
            "1875/1875 [==============================] - 5s 3ms/step - loss: 0.0110 - accuracy: 0.9967\n",
            "Epoch 36/100\n",
            " 608/1875 [========>.....................] - ETA: 3s - loss: 0.0080 - accuracy: 0.9977"
          ]
        },
        {
          "name": "stderr",
          "output_type": "stream",
          "text": [
            "[codecarbon INFO @ 06:31:03] Energy consumed for RAM : 0.000257 kWh. RAM Power : 4.753046035766602 W\n",
            "[codecarbon INFO @ 06:31:03] Energy consumed for all CPUs : 0.002302 kWh. Total CPU Power : 42.5 W\n",
            "[codecarbon INFO @ 06:31:03] 0.002559 kWh of electricity used since the beginning.\n"
          ]
        },
        {
          "name": "stdout",
          "output_type": "stream",
          "text": [
            "1875/1875 [==============================] - 6s 3ms/step - loss: 0.0090 - accuracy: 0.9972\n",
            "Epoch 37/100\n",
            "1875/1875 [==============================] - 5s 3ms/step - loss: 0.0104 - accuracy: 0.9968\n",
            "Epoch 38/100\n",
            "1844/1875 [============================>.] - ETA: 0s - loss: 0.0109 - accuracy: 0.9966"
          ]
        },
        {
          "name": "stderr",
          "output_type": "stream",
          "text": [
            "[codecarbon INFO @ 06:31:18] Energy consumed for RAM : 0.000277 kWh. RAM Power : 4.753046035766602 W\n",
            "[codecarbon INFO @ 06:31:18] Energy consumed for all CPUs : 0.002479 kWh. Total CPU Power : 42.5 W\n",
            "[codecarbon INFO @ 06:31:18] 0.002756 kWh of electricity used since the beginning.\n"
          ]
        },
        {
          "name": "stdout",
          "output_type": "stream",
          "text": [
            "1875/1875 [==============================] - 6s 3ms/step - loss: 0.0110 - accuracy: 0.9965\n",
            "Epoch 39/100\n",
            "1875/1875 [==============================] - 5s 3ms/step - loss: 0.0093 - accuracy: 0.9971\n",
            "Epoch 40/100\n",
            "1875/1875 [==============================] - 5s 3ms/step - loss: 0.0087 - accuracy: 0.9973\n",
            "Epoch 41/100\n",
            "1317/1875 [====================>.........] - ETA: 1s - loss: 0.0099 - accuracy: 0.9970"
          ]
        },
        {
          "name": "stderr",
          "output_type": "stream",
          "text": [
            "[codecarbon INFO @ 06:31:33] Energy consumed for RAM : 0.000297 kWh. RAM Power : 4.753046035766602 W\n",
            "[codecarbon INFO @ 06:31:33] Energy consumed for all CPUs : 0.002656 kWh. Total CPU Power : 42.5 W\n",
            "[codecarbon INFO @ 06:31:33] 0.002953 kWh of electricity used since the beginning.\n"
          ]
        },
        {
          "name": "stdout",
          "output_type": "stream",
          "text": [
            "1875/1875 [==============================] - 6s 3ms/step - loss: 0.0102 - accuracy: 0.9969\n",
            "Epoch 42/100\n",
            "1875/1875 [==============================] - 5s 3ms/step - loss: 0.0103 - accuracy: 0.9970\n",
            "Epoch 43/100\n",
            "1875/1875 [==============================] - 6s 3ms/step - loss: 0.0079 - accuracy: 0.9973\n",
            "Epoch 44/100\n",
            " 992/1875 [==============>...............] - ETA: 2s - loss: 0.0111 - accuracy: 0.9968"
          ]
        },
        {
          "name": "stderr",
          "output_type": "stream",
          "text": [
            "[codecarbon INFO @ 06:31:48] Energy consumed for RAM : 0.000317 kWh. RAM Power : 4.753046035766602 W\n",
            "[codecarbon INFO @ 06:31:48] Energy consumed for all CPUs : 0.002833 kWh. Total CPU Power : 42.5 W\n",
            "[codecarbon INFO @ 06:31:48] 0.003150 kWh of electricity used since the beginning.\n"
          ]
        },
        {
          "name": "stdout",
          "output_type": "stream",
          "text": [
            "1875/1875 [==============================] - 5s 3ms/step - loss: 0.0108 - accuracy: 0.9969\n",
            "Epoch 45/100\n",
            "1875/1875 [==============================] - 6s 3ms/step - loss: 0.0105 - accuracy: 0.9967\n",
            "Epoch 46/100\n",
            "1875/1875 [==============================] - 6s 3ms/step - loss: 0.0104 - accuracy: 0.9968\n",
            "Epoch 47/100\n",
            " 164/1875 [=>............................] - ETA: 4s - loss: 0.0135 - accuracy: 0.9960"
          ]
        },
        {
          "name": "stderr",
          "output_type": "stream",
          "text": [
            "[codecarbon INFO @ 06:32:03] Energy consumed for RAM : 0.000337 kWh. RAM Power : 4.753046035766602 W\n",
            "[codecarbon INFO @ 06:32:03] Energy consumed for all CPUs : 0.003010 kWh. Total CPU Power : 42.5 W\n",
            "[codecarbon INFO @ 06:32:03] 0.003347 kWh of electricity used since the beginning.\n"
          ]
        },
        {
          "name": "stdout",
          "output_type": "stream",
          "text": [
            "1875/1875 [==============================] - 5s 3ms/step - loss: 0.0104 - accuracy: 0.9965\n",
            "Epoch 48/100\n",
            "1875/1875 [==============================] - 6s 3ms/step - loss: 0.0106 - accuracy: 0.9967\n",
            "Epoch 49/100\n",
            "1778/1875 [===========================>..] - ETA: 0s - loss: 0.0106 - accuracy: 0.9968"
          ]
        },
        {
          "name": "stderr",
          "output_type": "stream",
          "text": [
            "[codecarbon INFO @ 06:32:18] Energy consumed for RAM : 0.000356 kWh. RAM Power : 4.753046035766602 W\n",
            "[codecarbon INFO @ 06:32:18] Energy consumed for all CPUs : 0.003187 kWh. Total CPU Power : 42.5 W\n",
            "[codecarbon INFO @ 06:32:18] 0.003543 kWh of electricity used since the beginning.\n"
          ]
        },
        {
          "name": "stdout",
          "output_type": "stream",
          "text": [
            "1875/1875 [==============================] - 5s 3ms/step - loss: 0.0103 - accuracy: 0.9969\n",
            "Epoch 50/100\n",
            "1875/1875 [==============================] - 5s 3ms/step - loss: 0.0092 - accuracy: 0.9969\n",
            "Epoch 51/100\n",
            "1875/1875 [==============================] - 6s 3ms/step - loss: 0.0113 - accuracy: 0.9967\n",
            "Epoch 52/100\n",
            "1407/1875 [=====================>........] - ETA: 1s - loss: 0.0080 - accuracy: 0.9975"
          ]
        },
        {
          "name": "stderr",
          "output_type": "stream",
          "text": [
            "[codecarbon INFO @ 06:32:33] Energy consumed for RAM : 0.000376 kWh. RAM Power : 4.753046035766602 W\n",
            "[codecarbon INFO @ 06:32:33] Energy consumed for all CPUs : 0.003364 kWh. Total CPU Power : 42.5 W\n",
            "[codecarbon INFO @ 06:32:33] 0.003740 kWh of electricity used since the beginning.\n"
          ]
        },
        {
          "name": "stdout",
          "output_type": "stream",
          "text": [
            "1875/1875 [==============================] - 5s 3ms/step - loss: 0.0080 - accuracy: 0.9975\n",
            "Epoch 53/100\n",
            "1875/1875 [==============================] - 6s 3ms/step - loss: 0.0074 - accuracy: 0.9977\n",
            "Epoch 54/100\n",
            "1875/1875 [==============================] - 5s 3ms/step - loss: 0.0105 - accuracy: 0.9968\n",
            "Epoch 55/100\n",
            " 793/1875 [===========>..................] - ETA: 3s - loss: 0.0099 - accuracy: 0.9970"
          ]
        },
        {
          "name": "stderr",
          "output_type": "stream",
          "text": [
            "[codecarbon INFO @ 06:32:48] Energy consumed for RAM : 0.000396 kWh. RAM Power : 4.753046035766602 W\n",
            "[codecarbon INFO @ 06:32:48] Energy consumed for all CPUs : 0.003541 kWh. Total CPU Power : 42.5 W\n"
          ]
        },
        {
          "name": "stdout",
          "output_type": "stream",
          "text": [
            "\b\b\b\b\b\b\b\b\b\b\b\b\b\b\b\b\b\b\b\b\b\b\b\b\b\b\b\b\b\b\b\b\b\b\b\b\b\b\b\b\b\b\b\b\b\b\b\b\b\b\b\b\b\b\b\b\b\b\b\b\b\b\b\b\b\b\b\b\b\b\b\b\b\b\b\b\b\b\b\b\b\b\b\b\b\b\r 804/1875 [===========>..................] - ETA: 3s - loss: 0.0098 - accuracy: 0.9970"
          ]
        },
        {
          "name": "stderr",
          "output_type": "stream",
          "text": [
            "[codecarbon INFO @ 06:32:48] 0.003937 kWh of electricity used since the beginning.\n"
          ]
        },
        {
          "name": "stdout",
          "output_type": "stream",
          "text": [
            "1875/1875 [==============================] - 6s 3ms/step - loss: 0.0101 - accuracy: 0.9969\n",
            "Epoch 56/100\n",
            "1875/1875 [==============================] - 5s 3ms/step - loss: 0.0087 - accuracy: 0.9971\n",
            "Epoch 57/100\n",
            "1833/1875 [============================>.] - ETA: 0s - loss: 0.0114 - accuracy: 0.9969"
          ]
        },
        {
          "name": "stderr",
          "output_type": "stream",
          "text": [
            "[codecarbon INFO @ 06:33:03] Energy consumed for RAM : 0.000416 kWh. RAM Power : 4.753046035766602 W\n",
            "[codecarbon INFO @ 06:33:03] Energy consumed for all CPUs : 0.003718 kWh. Total CPU Power : 42.5 W\n",
            "[codecarbon INFO @ 06:33:03] 0.004134 kWh of electricity used since the beginning.\n"
          ]
        },
        {
          "name": "stdout",
          "output_type": "stream",
          "text": [
            "1875/1875 [==============================] - 6s 3ms/step - loss: 0.0112 - accuracy: 0.9969\n",
            "Epoch 58/100\n",
            "1875/1875 [==============================] - 5s 3ms/step - loss: 0.0090 - accuracy: 0.9973\n",
            "Epoch 59/100\n",
            "1875/1875 [==============================] - 6s 3ms/step - loss: 0.0083 - accuracy: 0.9972\n",
            "Epoch 60/100\n",
            "1225/1875 [==================>...........] - ETA: 1s - loss: 0.0108 - accuracy: 0.9968"
          ]
        },
        {
          "name": "stderr",
          "output_type": "stream",
          "text": [
            "[codecarbon INFO @ 06:33:18] Energy consumed for RAM : 0.000435 kWh. RAM Power : 4.753046035766602 W\n",
            "[codecarbon INFO @ 06:33:18] Energy consumed for all CPUs : 0.003895 kWh. Total CPU Power : 42.5 W\n",
            "[codecarbon INFO @ 06:33:18] 0.004331 kWh of electricity used since the beginning.\n"
          ]
        },
        {
          "name": "stdout",
          "output_type": "stream",
          "text": [
            "1875/1875 [==============================] - 5s 3ms/step - loss: 0.0106 - accuracy: 0.9968\n",
            "Epoch 61/100\n",
            "1875/1875 [==============================] - 5s 3ms/step - loss: 0.0101 - accuracy: 0.9969\n",
            "Epoch 62/100\n",
            "1875/1875 [==============================] - 6s 3ms/step - loss: 0.0095 - accuracy: 0.9972\n",
            "Epoch 63/100\n",
            " 649/1875 [=========>....................] - ETA: 3s - loss: 0.0080 - accuracy: 0.9976"
          ]
        },
        {
          "name": "stderr",
          "output_type": "stream",
          "text": [
            "[codecarbon INFO @ 06:33:33] Energy consumed for RAM : 0.000455 kWh. RAM Power : 4.753046035766602 W\n",
            "[codecarbon INFO @ 06:33:33] Energy consumed for all CPUs : 0.004072 kWh. Total CPU Power : 42.5 W\n",
            "[codecarbon INFO @ 06:33:33] 0.004528 kWh of electricity used since the beginning.\n"
          ]
        },
        {
          "name": "stdout",
          "output_type": "stream",
          "text": [
            "1875/1875 [==============================] - 5s 3ms/step - loss: 0.0092 - accuracy: 0.9973\n",
            "Epoch 64/100\n",
            "1875/1875 [==============================] - 6s 3ms/step - loss: 0.0093 - accuracy: 0.9974\n",
            "Epoch 65/100\n",
            "1875/1875 [==============================] - 5s 3ms/step - loss: 0.0089 - accuracy: 0.9974\n",
            "Epoch 66/100\n",
            "  94/1875 [>.............................] - ETA: 4s - loss: 0.0069 - accuracy: 0.9980"
          ]
        },
        {
          "name": "stderr",
          "output_type": "stream",
          "text": [
            "[codecarbon INFO @ 06:33:48] Energy consumed for RAM : 0.000475 kWh. RAM Power : 4.753046035766602 W\n",
            "[codecarbon INFO @ 06:33:48] Energy consumed for all CPUs : 0.004249 kWh. Total CPU Power : 42.5 W\n",
            "[codecarbon INFO @ 06:33:48] 0.004724 kWh of electricity used since the beginning.\n"
          ]
        },
        {
          "name": "stdout",
          "output_type": "stream",
          "text": [
            "1875/1875 [==============================] - 6s 3ms/step - loss: 0.0108 - accuracy: 0.9969\n",
            "Epoch 67/100\n",
            "1875/1875 [==============================] - 5s 3ms/step - loss: 0.0093 - accuracy: 0.9974\n",
            "Epoch 68/100\n",
            "1360/1875 [====================>.........] - ETA: 1s - loss: 0.0097 - accuracy: 0.9972"
          ]
        },
        {
          "name": "stderr",
          "output_type": "stream",
          "text": [
            "[codecarbon INFO @ 06:34:03] Energy consumed for RAM : 0.000495 kWh. RAM Power : 4.753046035766602 W\n",
            "[codecarbon INFO @ 06:34:03] Energy consumed for all CPUs : 0.004426 kWh. Total CPU Power : 42.5 W\n",
            "[codecarbon INFO @ 06:34:03] 0.004921 kWh of electricity used since the beginning.\n"
          ]
        },
        {
          "name": "stdout",
          "output_type": "stream",
          "text": [
            "1875/1875 [==============================] - 6s 3ms/step - loss: 0.0101 - accuracy: 0.9973\n",
            "Epoch 69/100\n",
            "1875/1875 [==============================] - 5s 3ms/step - loss: 0.0108 - accuracy: 0.9972\n",
            "Epoch 70/100\n",
            "1875/1875 [==============================] - 5s 3ms/step - loss: 0.0092 - accuracy: 0.9973\n",
            "Epoch 71/100\n",
            " 777/1875 [===========>..................] - ETA: 3s - loss: 0.0084 - accuracy: 0.9977"
          ]
        },
        {
          "name": "stderr",
          "output_type": "stream",
          "text": [
            "[codecarbon INFO @ 06:34:18] Energy consumed for RAM : 0.000515 kWh. RAM Power : 4.753046035766602 W\n",
            "[codecarbon INFO @ 06:34:18] Energy consumed for all CPUs : 0.004603 kWh. Total CPU Power : 42.5 W\n",
            "[codecarbon INFO @ 06:34:18] 0.005118 kWh of electricity used since the beginning.\n"
          ]
        },
        {
          "name": "stdout",
          "output_type": "stream",
          "text": [
            "1875/1875 [==============================] - 6s 3ms/step - loss: 0.0085 - accuracy: 0.9974\n",
            "Epoch 72/100\n",
            "1875/1875 [==============================] - 6s 3ms/step - loss: 0.0089 - accuracy: 0.9973\n",
            "Epoch 73/100\n",
            "1858/1875 [============================>.] - ETA: 0s - loss: 0.0104 - accuracy: 0.9971"
          ]
        },
        {
          "name": "stderr",
          "output_type": "stream",
          "text": [
            "[codecarbon INFO @ 06:34:33] Energy consumed for RAM : 0.000534 kWh. RAM Power : 4.753046035766602 W\n",
            "[codecarbon INFO @ 06:34:33] Energy consumed for all CPUs : 0.004780 kWh. Total CPU Power : 42.5 W\n",
            "[codecarbon INFO @ 06:34:33] 0.005315 kWh of electricity used since the beginning.\n"
          ]
        },
        {
          "name": "stdout",
          "output_type": "stream",
          "text": [
            "1875/1875 [==============================] - 6s 3ms/step - loss: 0.0106 - accuracy: 0.9971\n",
            "Epoch 74/100\n",
            "1875/1875 [==============================] - 5s 3ms/step - loss: 0.0082 - accuracy: 0.9976\n",
            "Epoch 75/100\n",
            "1875/1875 [==============================] - 6s 3ms/step - loss: 0.0080 - accuracy: 0.9975\n",
            "Epoch 76/100\n",
            "1410/1875 [=====================>........] - ETA: 1s - loss: 0.0107 - accuracy: 0.9970"
          ]
        },
        {
          "name": "stderr",
          "output_type": "stream",
          "text": [
            "[codecarbon INFO @ 06:34:48] Energy consumed for RAM : 0.000554 kWh. RAM Power : 4.753046035766602 W\n",
            "[codecarbon INFO @ 06:34:48] Energy consumed for all CPUs : 0.004957 kWh. Total CPU Power : 42.5 W\n",
            "[codecarbon INFO @ 06:34:48] 0.005512 kWh of electricity used since the beginning.\n"
          ]
        },
        {
          "name": "stdout",
          "output_type": "stream",
          "text": [
            "1875/1875 [==============================] - 5s 3ms/step - loss: 0.0105 - accuracy: 0.9970\n",
            "Epoch 77/100\n",
            "1875/1875 [==============================] - 6s 3ms/step - loss: 0.0093 - accuracy: 0.9975\n",
            "Epoch 78/100\n",
            "1875/1875 [==============================] - 5s 3ms/step - loss: 0.0093 - accuracy: 0.9972\n",
            "Epoch 79/100\n",
            " 946/1875 [==============>...............] - ETA: 2s - loss: 0.0108 - accuracy: 0.9966"
          ]
        },
        {
          "name": "stderr",
          "output_type": "stream",
          "text": [
            "[codecarbon INFO @ 06:35:03] Energy consumed for RAM : 0.000574 kWh. RAM Power : 4.753046035766602 W\n",
            "[codecarbon INFO @ 06:35:03] Energy consumed for all CPUs : 0.005135 kWh. Total CPU Power : 42.5 W\n",
            "[codecarbon INFO @ 06:35:03] 0.005709 kWh of electricity used since the beginning.\n"
          ]
        },
        {
          "name": "stdout",
          "output_type": "stream",
          "text": [
            "1875/1875 [==============================] - 6s 3ms/step - loss: 0.0100 - accuracy: 0.9971\n",
            "Epoch 80/100\n",
            "1875/1875 [==============================] - 5s 3ms/step - loss: 0.0093 - accuracy: 0.9969\n",
            "Epoch 81/100\n",
            "1875/1875 [==============================] - 5s 3ms/step - loss: 0.0107 - accuracy: 0.9969\n",
            "Epoch 82/100\n",
            " 292/1875 [===>..........................] - ETA: 7s - loss: 0.0066 - accuracy: 0.9974"
          ]
        },
        {
          "name": "stderr",
          "output_type": "stream",
          "text": [
            "[codecarbon INFO @ 06:35:18] Energy consumed for RAM : 0.000594 kWh. RAM Power : 4.753046035766602 W\n",
            "[codecarbon INFO @ 06:35:18] Energy consumed for all CPUs : 0.005312 kWh. Total CPU Power : 42.5 W\n",
            "[codecarbon INFO @ 06:35:18] 0.005906 kWh of electricity used since the beginning.\n"
          ]
        },
        {
          "name": "stdout",
          "output_type": "stream",
          "text": [
            "1875/1875 [==============================] - 6s 3ms/step - loss: 0.0094 - accuracy: 0.9974\n",
            "Epoch 83/100\n",
            "1875/1875 [==============================] - 5s 3ms/step - loss: 0.0079 - accuracy: 0.9975\n",
            "Epoch 84/100\n",
            "1668/1875 [=========================>....] - ETA: 0s - loss: 0.0086 - accuracy: 0.9975"
          ]
        },
        {
          "name": "stderr",
          "output_type": "stream",
          "text": [
            "[codecarbon INFO @ 06:35:33] Energy consumed for RAM : 0.000614 kWh. RAM Power : 4.753046035766602 W\n",
            "[codecarbon INFO @ 06:35:33] Energy consumed for all CPUs : 0.005489 kWh. Total CPU Power : 42.5 W\n",
            "[codecarbon INFO @ 06:35:33] 0.006102 kWh of electricity used since the beginning.\n"
          ]
        },
        {
          "name": "stdout",
          "output_type": "stream",
          "text": [
            "1875/1875 [==============================] - 6s 3ms/step - loss: 0.0087 - accuracy: 0.9975\n",
            "Epoch 85/100\n",
            "1875/1875 [==============================] - 5s 3ms/step - loss: 0.0092 - accuracy: 0.9974\n",
            "Epoch 86/100\n",
            "1875/1875 [==============================] - 6s 3ms/step - loss: 0.0097 - accuracy: 0.9971\n",
            "Epoch 87/100\n",
            "1316/1875 [====================>.........] - ETA: 1s - loss: 0.0078 - accuracy: 0.9976"
          ]
        },
        {
          "name": "stderr",
          "output_type": "stream",
          "text": [
            "[codecarbon INFO @ 06:35:48] Energy consumed for RAM : 0.000633 kWh. RAM Power : 4.753046035766602 W\n",
            "[codecarbon INFO @ 06:35:48] Energy consumed for all CPUs : 0.005666 kWh. Total CPU Power : 42.5 W\n",
            "[codecarbon INFO @ 06:35:48] 0.006299 kWh of electricity used since the beginning.\n"
          ]
        },
        {
          "name": "stdout",
          "output_type": "stream",
          "text": [
            "1875/1875 [==============================] - 5s 3ms/step - loss: 0.0077 - accuracy: 0.9977\n",
            "Epoch 88/100\n",
            "1875/1875 [==============================] - 6s 3ms/step - loss: 0.0100 - accuracy: 0.9972\n",
            "Epoch 89/100\n",
            "1875/1875 [==============================] - 5s 3ms/step - loss: 0.0097 - accuracy: 0.9973\n",
            "Epoch 90/100\n",
            " 947/1875 [==============>...............] - ETA: 2s - loss: 0.0085 - accuracy: 0.9974"
          ]
        },
        {
          "name": "stderr",
          "output_type": "stream",
          "text": [
            "[codecarbon INFO @ 06:36:03] Energy consumed for RAM : 0.000653 kWh. RAM Power : 4.753046035766602 W\n",
            "[codecarbon INFO @ 06:36:03] Energy consumed for all CPUs : 0.005843 kWh. Total CPU Power : 42.5 W\n",
            "[codecarbon INFO @ 06:36:03] 0.006496 kWh of electricity used since the beginning.\n"
          ]
        },
        {
          "name": "stdout",
          "output_type": "stream",
          "text": [
            "1875/1875 [==============================] - 5s 3ms/step - loss: 0.0086 - accuracy: 0.9974\n",
            "Epoch 91/100\n",
            "1875/1875 [==============================] - 6s 3ms/step - loss: 0.0098 - accuracy: 0.9970\n",
            "Epoch 92/100\n",
            "1875/1875 [==============================] - 5s 3ms/step - loss: 0.0102 - accuracy: 0.9971\n",
            "Epoch 93/100\n",
            " 595/1875 [========>.....................] - ETA: 3s - loss: 0.0080 - accuracy: 0.9978"
          ]
        },
        {
          "name": "stderr",
          "output_type": "stream",
          "text": [
            "[codecarbon INFO @ 06:36:18] Energy consumed for RAM : 0.000673 kWh. RAM Power : 4.753046035766602 W\n",
            "[codecarbon INFO @ 06:36:18] Energy consumed for all CPUs : 0.006020 kWh. Total CPU Power : 42.5 W\n",
            "[codecarbon INFO @ 06:36:18] 0.006693 kWh of electricity used since the beginning.\n"
          ]
        },
        {
          "name": "stdout",
          "output_type": "stream",
          "text": [
            "1875/1875 [==============================] - 6s 3ms/step - loss: 0.0082 - accuracy: 0.9976\n",
            "Epoch 94/100\n",
            "1875/1875 [==============================] - 5s 3ms/step - loss: 0.0089 - accuracy: 0.9974\n",
            "Epoch 95/100\n",
            "1798/1875 [===========================>..] - ETA: 0s - loss: 0.0083 - accuracy: 0.9971"
          ]
        },
        {
          "name": "stderr",
          "output_type": "stream",
          "text": [
            "[codecarbon INFO @ 06:36:33] Energy consumed for RAM : 0.000693 kWh. RAM Power : 4.753046035766602 W\n",
            "[codecarbon INFO @ 06:36:33] Energy consumed for all CPUs : 0.006197 kWh. Total CPU Power : 42.5 W\n"
          ]
        },
        {
          "name": "stdout",
          "output_type": "stream",
          "text": [
            "\b\b\b\b\b\b\b\b\b\b\b\b\b\b\b\b\b\b\b\b\b\b\b\b\b\b\b\b\b\b\b\b\b\b\b\b\b\b\b\b\b\b\b\b\b\b\b\b\b\b\b\b\b\b\b\b\b\b\b\b\b\b\b\b\b\b\b\b\b\b\b\b\b\b\b\b\b\b\b\b\b\b\b\b\b\b\r1807/1875 [===========================>..] - ETA: 0s - loss: 0.0083 - accuracy: 0.9971"
          ]
        },
        {
          "name": "stderr",
          "output_type": "stream",
          "text": [
            "[codecarbon INFO @ 06:36:33] 0.006889 kWh of electricity used since the beginning.\n"
          ]
        },
        {
          "name": "stdout",
          "output_type": "stream",
          "text": [
            "1875/1875 [==============================] - 6s 3ms/step - loss: 0.0082 - accuracy: 0.9972\n",
            "Epoch 96/100\n",
            "1875/1875 [==============================] - 5s 3ms/step - loss: 0.0093 - accuracy: 0.9972\n",
            "Epoch 97/100\n",
            "1875/1875 [==============================] - 5s 3ms/step - loss: 0.0097 - accuracy: 0.9973\n",
            "Epoch 98/100\n",
            "1498/1875 [======================>.......] - ETA: 1s - loss: 0.0098 - accuracy: 0.9972"
          ]
        },
        {
          "name": "stderr",
          "output_type": "stream",
          "text": [
            "[codecarbon INFO @ 06:36:48] Energy consumed for RAM : 0.000713 kWh. RAM Power : 4.753046035766602 W\n",
            "[codecarbon INFO @ 06:36:48] Energy consumed for all CPUs : 0.006374 kWh. Total CPU Power : 42.5 W\n",
            "[codecarbon INFO @ 06:36:48] 0.007086 kWh of electricity used since the beginning.\n"
          ]
        },
        {
          "name": "stdout",
          "output_type": "stream",
          "text": [
            "1875/1875 [==============================] - 6s 3ms/step - loss: 0.0096 - accuracy: 0.9971\n",
            "Epoch 99/100\n",
            "1875/1875 [==============================] - 5s 3ms/step - loss: 0.0094 - accuracy: 0.9975\n",
            "Epoch 100/100\n",
            "1875/1875 [==============================] - 7s 4ms/step - loss: 0.0083 - accuracy: 0.9977\n"
          ]
        },
        {
          "name": "stderr",
          "output_type": "stream",
          "text": [
            "[codecarbon INFO @ 06:37:01] Energy consumed for RAM : 0.000730 kWh. RAM Power : 4.753046035766602 W\n",
            "[codecarbon INFO @ 06:37:01] Energy consumed for all CPUs : 0.006526 kWh. Total CPU Power : 42.5 W\n",
            "[codecarbon INFO @ 06:37:01] 0.007256 kWh of electricity used since the beginning.\n"
          ]
        },
        {
          "name": "stdout",
          "output_type": "stream",
          "text": [
            "Emissions: 0.0025339897576039435 kg\n"
          ]
        }
      ],
      "source": [
        "#Source: https://github.com/mlco2/codecarbon/blob/master/examples/mnist.py\n",
        "tracker = EmissionsTracker()\n",
        "tracker.start()\n",
        "model.fit(x_train, y_train, epochs=100)\n",
        "emissions: float = tracker.stop()\n",
        "print(f\"Emissions: {emissions} kg\")"
      ]
    },
    {
      "cell_type": "markdown",
      "metadata": {
        "id": "ACkCBHd9xh84"
      },
      "source": [
        "As we can see from the logs, we can see codecarbon oututting the logs for the energy consumed for the RAM & for all the CPUs, the Total CPU Power, and the cumulative kWh of electricity used.\n",
        "\n",
        "At the end, we have the calculated emissions as 0.0025339897576039435 kg. Since this is a small model, this may be acceptable, but with larger models, we can quickly start to see this amount increase.\n",
        "\n",
        "This is when Step 3 of the process kicks in, where we can modify and test our implementation to find the optimal location and time to execute the workload, and whether one kind of model performs well in terms of accuracy and sustainability metrics over another.\n",
        "\n",
        "We can also calculate the emissions for more useful capabilities, such as what the cumulative electricity looks like [when performing GridSearch](https://github.com/mlco2/codecarbon/blob/master/examples/mnist_inference.py).\n",
        "\n",
        "---\n",
        "\n",
        "Let's experiment further with another compute-intensive function below.\n",
        "\n",
        "Here, we have a function calculating the the square of numbers from 0 to the range specified."
      ]
    },
    {
      "cell_type": "code",
      "execution_count": null,
      "metadata": {
        "colab": {
          "base_uri": "https://localhost:8080/"
        },
        "id": "Fm4OCjp0hNhj",
        "outputId": "87479d17-f632-44b6-93b7-c5f0e9bc0752"
      },
      "outputs": [
        {
          "name": "stderr",
          "output_type": "stream",
          "text": [
            "[codecarbon INFO @ 08:05:19] [setup] RAM Tracking...\n",
            "[codecarbon INFO @ 08:05:19] [setup] GPU Tracking...\n",
            "[codecarbon INFO @ 08:05:19] No GPU found.\n",
            "[codecarbon INFO @ 08:05:19] [setup] CPU Tracking...\n",
            "[codecarbon WARNING @ 08:05:19] No CPU tracking mode found. Falling back on CPU constant mode.\n",
            "[codecarbon WARNING @ 08:05:21] We saw that you have a Intel(R) Xeon(R) CPU @ 2.20GHz but we don't know it. Please contact us.\n",
            "[codecarbon INFO @ 08:05:21] CPU Model on constant consumption mode: Intel(R) Xeon(R) CPU @ 2.20GHz\n",
            "[codecarbon INFO @ 08:05:21] >>> Tracker's metadata:\n",
            "[codecarbon INFO @ 08:05:21]   Platform system: Linux-6.1.58+-x86_64-with-glibc2.35\n",
            "[codecarbon INFO @ 08:05:21]   Python version: 3.10.12\n",
            "[codecarbon INFO @ 08:05:21]   CodeCarbon version: 2.3.2\n",
            "[codecarbon INFO @ 08:05:21]   Available RAM : 12.675 GB\n",
            "[codecarbon INFO @ 08:05:21]   CPU count: 2\n",
            "[codecarbon INFO @ 08:05:21]   CPU model: Intel(R) Xeon(R) CPU @ 2.20GHz\n",
            "[codecarbon INFO @ 08:05:21]   GPU count: None\n",
            "[codecarbon INFO @ 08:05:21]   GPU model: None\n",
            "[codecarbon INFO @ 08:05:36] Energy consumed for RAM : 0.000020 kWh. RAM Power : 4.753046035766602 W\n",
            "[codecarbon INFO @ 08:05:36] Energy consumed for all CPUs : 0.000177 kWh. Total CPU Power : 42.5 W\n",
            "[codecarbon INFO @ 08:05:36] 0.000197 kWh of electricity used since the beginning.\n",
            "[codecarbon INFO @ 08:05:51] Energy consumed for RAM : 0.000040 kWh. RAM Power : 4.753046035766602 W\n",
            "[codecarbon INFO @ 08:05:51] Energy consumed for all CPUs : 0.000354 kWh. Total CPU Power : 42.5 W\n",
            "[codecarbon INFO @ 08:05:51] 0.000394 kWh of electricity used since the beginning.\n",
            "[codecarbon INFO @ 08:05:56] Energy consumed for RAM : 0.000046 kWh. RAM Power : 4.753046035766602 W\n",
            "[codecarbon INFO @ 08:05:56] Energy consumed for all CPUs : 0.000409 kWh. Total CPU Power : 42.5 W\n",
            "[codecarbon INFO @ 08:05:56] 0.000454 kWh of electricity used since the beginning.\n"
          ]
        },
        {
          "name": "stdout",
          "output_type": "stream",
          "text": [
            "Execution time: 34.653661251068115 seconds\n",
            "Emissions: 0.0001586864772879274 kg\n"
          ]
        }
      ],
      "source": [
        "import time\n",
        "\n",
        "def compute_intensive_function():\n",
        "    start_time = time.time()\n",
        "    for i in range(100000000):\n",
        "        x = i ** 2\n",
        "    end_time = time.time()\n",
        "    print(f\"Execution time: {end_time - start_time} seconds\")\n",
        "\n",
        "tracker = EmissionsTracker()\n",
        "tracker.start()\n",
        "compute_intensive_function()\n",
        "emissions: float = tracker.stop()\n",
        "print(f\"Emissions: {emissions} kg\")"
      ]
    },
    {
      "cell_type": "markdown",
      "metadata": {
        "id": "UevNtXFcy5QE"
      },
      "source": [
        "We can see the execution time and emissions for this function, and play around with the range of the generations in the above function to see how the emissions are impacted!"
      ]
    }
  ],
  "metadata": {
    "colab": {
      "provenance": []
    },
    "kernelspec": {
      "display_name": "Python 3",
      "name": "python3"
    },
    "language_info": {
      "name": "python"
    }
  },
  "nbformat": 4,
  "nbformat_minor": 0
}
