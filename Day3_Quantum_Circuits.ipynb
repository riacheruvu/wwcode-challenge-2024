{
  "cells": [
    {
      "cell_type": "markdown",
      "source": [
        "# A simple quantum circuit with Cirq and Python\n",
        "\n",
        "Here, I'm using a short snippet from Cirq, a quantum computing library's documentation to [create a Bell state](https://quantumai.google/cirq/start/basics), an entangled quantum state of two qubits. Specifically, these two qubits are in a superposition of the 0 and 1 states and are correlated with each other."
      ],
      "metadata": {
        "id": "n8o4poJmxFHb"
      }
    },
    {
      "cell_type": "code",
      "execution_count": 6,
      "metadata": {
        "id": "bd9529db1c0b"
      },
      "outputs": [],
      "source": [
        "!pip install --quiet cirq\n",
        "import cirq"
      ]
    },
    {
      "cell_type": "markdown",
      "source": [
        "## Step 1\n",
        "\n",
        "Pick your bits and implement your circuit"
      ],
      "metadata": {
        "id": "aUErcBOsxVui"
      }
    },
    {
      "cell_type": "code",
      "source": [
        "#Source of this snippet: https://quantumai.google/cirq/start/basics\n",
        "# Create a circuit to generate a Bell State:\n",
        "bell_circuit = cirq.Circuit()\n",
        "q0, q1 = cirq.LineQubit.range(2)"
      ],
      "metadata": {
        "id": "TKQ2EEp2t8nD"
      },
      "execution_count": 9,
      "outputs": []
    },
    {
      "cell_type": "markdown",
      "source": [
        "## Step 2"
      ],
      "metadata": {
        "id": "nwJYwJeExdHO"
      }
    },
    {
      "cell_type": "markdown",
      "source": [
        "To create a Bell state, the circuit needs to contain a Hadamard gate and a CNOT gate.\n",
        "\n",
        "The **first qubit** is passed through the Hadamard gate, and then **both qubits** are entangled by the CNOT gate."
      ],
      "metadata": {
        "id": "brs9ApyQxeTS"
      }
    },
    {
      "cell_type": "code",
      "source": [
        "#Source of this snippet: https://quantumai.google/cirq/start/basics\n",
        "#Add Hadamard gate to first qubit\n",
        "bell_circuit.append(cirq.H(q0))\n",
        "#Add CNOT gate to second qubit\n",
        "bell_circuit.append(cirq.CNOT(q0, q1))"
      ],
      "metadata": {
        "id": "3xvYLUz0xfYL"
      },
      "execution_count": 10,
      "outputs": []
    },
    {
      "cell_type": "markdown",
      "source": [
        "## Step 3: Simulate the circuit\n"
      ],
      "metadata": {
        "id": "QwKYXsEtxaj5"
      }
    },
    {
      "cell_type": "code",
      "source": [
        "# Initialize Simulator\n",
        "s = cirq.Simulator()\n",
        "\n",
        "#Simulate running the circuit on a quantum computer by using a classical computer\n",
        "print('Simulate the circuit:')\n",
        "results = s.simulate(bell_circuit)\n",
        "print(results)"
      ],
      "metadata": {
        "colab": {
          "base_uri": "https://localhost:8080/"
        },
        "id": "XD6CRh99xofn",
        "outputId": "11ef7d01-21b7-45fc-fb13-772f6eac75b2"
      },
      "execution_count": 11,
      "outputs": [
        {
          "output_type": "stream",
          "name": "stdout",
          "text": [
            "Simulate the circuit:\n",
            "measurements: (no measurements)\n",
            "\n",
            "qubits: (cirq.LineQubit(0), cirq.LineQubit(1))\n",
            "output vector: 0.707|00⟩ + 0.707|11⟩\n",
            "\n",
            "phase:\n",
            "output vector: |⟩\n"
          ]
        }
      ]
    },
    {
      "cell_type": "markdown",
      "source": [
        "## Step 4: Measure the results"
      ],
      "metadata": {
        "id": "9nDSM6JJxo9M"
      }
    },
    {
      "cell_type": "code",
      "source": [
        "# We need to perform sampling of the circuit\n",
        "# so we will measure each of the qubits\n",
        "bell_circuit.append(cirq.measure(q0, q1, key='result'))\n",
        "\n",
        "# Get a sample distribution of measurement of the results\n",
        "samples = s.run(bell_circuit, repetitions=1000)"
      ],
      "metadata": {
        "id": "xXAYeObTxtWm"
      },
      "execution_count": 12,
      "outputs": []
    },
    {
      "cell_type": "code",
      "source": [
        "samples"
      ],
      "metadata": {
        "colab": {
          "base_uri": "https://localhost:8080/"
        },
        "id": "1br5Ul3C1Ngb",
        "outputId": "1a00790e-7e57-46c8-e751-68f7741ad68e"
      },
      "execution_count": 13,
      "outputs": [
        {
          "output_type": "execute_result",
          "data": {
            "text/plain": [
              "result=1001010110110100100110011101111111101001010111011010101100010011000111000111111111101111000011000010010010111000111111111100000101111111001011000001010000000001001001110100001000000101110010011100111011010010000011010100110011001000011001100111011101001111100010101011000001011111110111000001111001100011000100001001001010011110110100101011010001000110100100111111001011010011100111000010011010011110101001101011100000101001110111100011100101011111101000100101001001000010010001111010110010100010001010011100010111010011011011110110011100010111100010000110011101000101010110010001100101000110010110100011010111000010000100101100010010001000111010010010001101001011001100100110011101111110000111100100001111011011111101001011101111001001001100100111100100011100000001001011000101110010010011110101101001000011101110011111100001000101101001111111010011101011001110100111001110111011001111010111100100011101101011110010100011001101011010011100010100110100010000110111011110000111000001100001110000011001, 1001010110110100100110011101111111101001010111011010101100010011000111000111111111101111000011000010010010111000111111111100000101111111001011000001010000000001001001110100001000000101110010011100111011010010000011010100110011001000011001100111011101001111100010101011000001011111110111000001111001100011000100001001001010011110110100101011010001000110100100111111001011010011100111000010011010011110101001101011100000101001110111100011100101011111101000100101001001000010010001111010110010100010001010011100010111010011011011110110011100010111100010000110011101000101010110010001100101000110010110100011010111000010000100101100010010001000111010010010001101001011001100100110011101111110000111100100001111011011111101001011101111001001001100100111100100011100000001001011000101110010010011110101101001000011101110011111100001000101101001111111010011101011001110100111001110111011001111010111100100011101101011110010100011001101011010011100010100110100010000110111011110000111000001100001110000011001"
            ]
          },
          "metadata": {},
          "execution_count": 13
        }
      ]
    }
  ],
  "metadata": {
    "colab": {
      "provenance": []
    },
    "kernelspec": {
      "display_name": "Python 3",
      "name": "python3"
    }
  },
  "nbformat": 4,
  "nbformat_minor": 0
}