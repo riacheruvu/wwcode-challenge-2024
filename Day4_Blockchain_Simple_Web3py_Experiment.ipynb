{
  "nbformat": 4,
  "nbformat_minor": 0,
  "metadata": {
    "colab": {
      "provenance": []
    },
    "kernelspec": {
      "name": "python3",
      "display_name": "Python 3"
    },
    "language_info": {
      "name": "python"
    }
  },
  "cells": [
    {
      "cell_type": "markdown",
      "source": [
        "# A simple example using Web3.py and Ethereum\n",
        "\n",
        "Here, I'm using a short snippet from the documentation of [web3.py](https://web3py.readthedocs.io/en/stable/quickstart.html), a Python library for interacting with Ethereum (a blockchain platform). In this experiment, I read the latest block on the blockchain platform and get more details on the balance of an account on the platform!\n",
        "\n",
        "Eventually, these types of fundamentals can be added upon to create new smart contracts and transactions, perform advanced monitoring, build decentralized aps (DApps), etc."
      ],
      "metadata": {
        "id": "6_B8pqQFuq2l"
      }
    },
    {
      "cell_type": "code",
      "execution_count": null,
      "metadata": {
        "id": "HmRsXtoJdim-"
      },
      "outputs": [],
      "source": [
        "!pip install web3\n",
        "#Eth-tester is a dependency for this example\n",
        "!pip install eth-tester"
      ]
    },
    {
      "cell_type": "markdown",
      "source": [
        "## Step 1: Connect to a provider\n",
        "\n",
        "Here I select the Test Provider to connect to an Ethereum node."
      ],
      "metadata": {
        "id": "oaxZEWqDx0nk"
      }
    },
    {
      "cell_type": "code",
      "source": [
        "from web3 import Web3, EthereumTesterProvider"
      ],
      "metadata": {
        "id": "Ny958IUzdjZy"
      },
      "execution_count": 16,
      "outputs": []
    },
    {
      "cell_type": "code",
      "source": [
        "#Use a Test Provider\n",
        "w3 = Web3(EthereumTesterProvider())\n",
        "#Use a remote provider - exercise caution\n",
        "w3.is_connected()"
      ],
      "metadata": {
        "colab": {
          "base_uri": "https://localhost:8080/"
        },
        "id": "8gSGMObRkcY1",
        "outputId": "69379643-5551-47be-9518-74800fe6d936"
      },
      "execution_count": 48,
      "outputs": [
        {
          "output_type": "stream",
          "name": "stderr",
          "text": [
            "/usr/local/lib/python3.10/dist-packages/eth_tester/backends/__init__.py:45: UserWarning: Ethereum Tester: No backend was explicitly set, and no *full* backends were available.  Falling back to the `MockBackend` which does not support all EVM functionality.  Please refer to the `eth-tester` documentation for information on what backends are available and how to set them.  Your py-evm package may need to be updated.\n",
            "  backend_class = get_chain_backend_class()\n"
          ]
        },
        {
          "output_type": "execute_result",
          "data": {
            "text/plain": [
              "True"
            ]
          },
          "metadata": {},
          "execution_count": 48
        }
      ]
    },
    {
      "cell_type": "markdown",
      "source": [
        "## Step 2: Interact with the blockchain"
      ],
      "metadata": {
        "id": "iEkVnKATx8_1"
      }
    },
    {
      "cell_type": "markdown",
      "source": [
        "Next, I use the `get_block()` method to get information on the latest block on the blocchain! Based on the timestamp, it looks like this block was added around Jan 11th, 2024."
      ],
      "metadata": {
        "id": "VOnnOGF51qMw"
      }
    },
    {
      "cell_type": "code",
      "source": [
        "w3.eth.get_block('latest')"
      ],
      "metadata": {
        "colab": {
          "base_uri": "https://localhost:8080/"
        },
        "id": "I7DfS_GskpvE",
        "outputId": "71513c4c-3188-403e-e1ec-513bf1929fd0"
      },
      "execution_count": 49,
      "outputs": [
        {
          "output_type": "execute_result",
          "data": {
            "text/plain": [
              "AttributeDict({'number': 0,\n",
              " 'parentHash': HexBytes('0x0000000000000000000000000000000000000000000000000000000000000000'),\n",
              " 'nonce': HexBytes('0x0000000000000000'),\n",
              " 'sha3Uncles': HexBytes('0x1dcc4de8dec75d7aab85b567b6ccd41ad312451b948a7413f0a142fd40d49347'),\n",
              " 'logsBloom': HexBytes('0x00'),\n",
              " 'transactionsRoot': HexBytes('0x56e81f171bcc55a6ff8345e692c0f86e5b48e01b996cadc001622fb5e363b421'),\n",
              " 'receiptsRoot': HexBytes('0x56e81f171bcc55a6ff8345e692c0f86e5b48e01b996cadc001622fb5e363b421'),\n",
              " 'stateRoot': HexBytes('0x56e81f171bcc55a6ff8345e692c0f86e5b48e01b996cadc001622fb5e363b421'),\n",
              " 'miner': '0x0000000000000000000000000000000000000000',\n",
              " 'difficulty': 0,\n",
              " 'mixHash': HexBytes('0xd64bfeb970853a44d80b82eba792dda3e6223e42e7276b3b63d1dffe7660070a'),\n",
              " 'totalDifficulty': 131072,\n",
              " 'size': 0,\n",
              " 'extraData': HexBytes('0x0000000000000000000000000000000000000000000000000000000000000000'),\n",
              " 'gasLimit': 30029122,\n",
              " 'gasUsed': 0,\n",
              " 'timestamp': 1705032032,\n",
              " 'transactions': [],\n",
              " 'uncles': [],\n",
              " 'baseFeePerGas': 1000000000,\n",
              " 'withdrawals': [],\n",
              " 'withdrawalsRoot': HexBytes('0x56e81f171bcc55a6ff8345e692c0f86e5b48e01b996cadc001622fb5e363b421'),\n",
              " 'hash': HexBytes('0x6ed3e244ca562909bb0bab7c1da29042949f2aefeabcda3a0a48132fdc4ddfd9')})"
            ]
          },
          "metadata": {},
          "execution_count": 49
        }
      ]
    },
    {
      "cell_type": "markdown",
      "source": [
        "### Switch to another provider and get account balance"
      ],
      "metadata": {
        "id": "ln4DCSEb1GTS"
      }
    },
    {
      "cell_type": "markdown",
      "source": [
        "One other simple kind of interaction we can perform with the Ethereum blockchain is to find the amount of ether an account has. An account is an entity on the Ethereum blockchain that has an ETH (ether) balance and can make transactions.\n",
        "\n",
        "Let's switch to a remote provider (a Binance smart chain provider) to do this.\n",
        "\n",
        "We can check the account balance of this (randomly picked) account - you can also navigate here to learn more: https://etherscan.io/address/0x742d35cc6634c0532925a3b844bc454e4438f44e"
      ],
      "metadata": {
        "id": "bwuEESfj1ukc"
      }
    },
    {
      "cell_type": "code",
      "source": [
        "w3 = Web3(Web3.HTTPProvider(\"https://bsc-dataseed.binance.org/\"))\n",
        "w3.eth.get_balance('0x742d35Cc6634C0532925a3b844Bc454e4438f44e')"
      ],
      "metadata": {
        "colab": {
          "base_uri": "https://localhost:8080/"
        },
        "id": "3NZsPTXCnW2u",
        "outputId": "2c48bf02-a54f-4b79-a821-42839881c900"
      },
      "execution_count": 51,
      "outputs": [
        {
          "output_type": "stream",
          "name": "stderr",
          "text": [
            "/usr/local/lib/python3.10/dist-packages/ipykernel/ipkernel.py:283: DeprecationWarning: `should_run_async` will not call `transform_cell` automatically in the future. Please pass the result to `transformed_cell` argument and any exception that happen during thetransform in `preprocessing_exc_tuple` in IPython 7.17 and above.\n",
            "  and should_run_async(code)\n"
          ]
        },
        {
          "output_type": "execute_result",
          "data": {
            "text/plain": [
              "48034790000000000"
            ]
          },
          "metadata": {},
          "execution_count": 51
        }
      ]
    },
    {
      "cell_type": "markdown",
      "source": [
        "## Step 3: Create additional configurations"
      ],
      "metadata": {
        "id": "s259h6hb1n8j"
      }
    },
    {
      "cell_type": "markdown",
      "source": [
        "This was my quick attempt from the web3.py docs to identify how the middleware_onion method is used to add middleware layers."
      ],
      "metadata": {
        "id": "XDKV2bME4H0-"
      }
    },
    {
      "cell_type": "code",
      "source": [
        "#Inject middleware - in this case, this layer of middleware adds a gas price to transactions\n",
        "#Gas prices refers to transaction fees when using Ethereum\n",
        "#For more details, see here: https://web3py.readthedocs.io/en/stable/middleware.html\n",
        "w3.middleware_onion.add(w3.middleware.gas_price_strategy_middleware)"
      ],
      "metadata": {
        "id": "MaejYKj-1OOS"
      },
      "execution_count": 52,
      "outputs": []
    }
  ]
}